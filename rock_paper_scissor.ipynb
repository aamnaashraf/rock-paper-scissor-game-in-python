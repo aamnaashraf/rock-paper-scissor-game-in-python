{
  "nbformat": 4,
  "nbformat_minor": 0,
  "metadata": {
    "colab": {
      "provenance": [],
      "authorship_tag": "ABX9TyNq9zPgb9RYCRzwhgukly/n",
      "include_colab_link": true
    },
    "kernelspec": {
      "name": "python3",
      "display_name": "Python 3"
    },
    "language_info": {
      "name": "python"
    }
  },
  "cells": [
    {
      "cell_type": "markdown",
      "metadata": {
        "id": "view-in-github",
        "colab_type": "text"
      },
      "source": [
        "<a href=\"https://colab.research.google.com/github/aamnaashraf/rock-paper-scissor-game-in-python/blob/main/rock_paper_scissor.ipynb\" target=\"_parent\"><img src=\"https://colab.research.google.com/assets/colab-badge.svg\" alt=\"Open In Colab\"/></a>"
      ]
    },
    {
      "cell_type": "code",
      "source": [
        "!pip install colorama"
      ],
      "metadata": {
        "colab": {
          "base_uri": "https://localhost:8080/"
        },
        "id": "4IFBf2SCCO3e",
        "outputId": "7b78dd39-e3b5-4ca8-88ce-6179815000d3"
      },
      "execution_count": 3,
      "outputs": [
        {
          "output_type": "stream",
          "name": "stdout",
          "text": [
            "Requirement already satisfied: colorama in /usr/local/lib/python3.11/dist-packages (0.4.6)\n"
          ]
        }
      ]
    },
    {
      "cell_type": "code",
      "source": [
        "import random\n",
        "from colorama import Fore, Style, init\n",
        "\n",
        "# Initialize colorama\n",
        "init(autoreset=True)\n",
        "\n",
        "def print_colored(text, color):\n",
        "    \"\"\"Prints text in the specified color.\"\"\"\n",
        "    print(color + text + Style.RESET_ALL)\n",
        "\n",
        "def rock_paper_scissors():\n",
        "    choices = [\"rock\", \"paper\", \"scissors\"]\n",
        "    user_score = 0\n",
        "    computer_score = 0\n",
        "    rounds = 0\n",
        "    max_rounds = 5  # Set the number of rounds\n",
        "\n",
        "    print_colored(\"Welcome to Rock, Paper, Scissors!\", Fore.CYAN)\n",
        "    print_colored(f\"You will play {max_rounds} rounds against the computer. Let's see who wins!\", Fore.LIGHTYELLOW_EX)\n",
        "\n",
        "    while rounds < max_rounds:\n",
        "        rounds += 1\n",
        "        print_colored(f\"\\n--- Round {rounds} ---\", Fore.LIGHTMAGENTA_EX)\n",
        "\n",
        "        # User's choice\n",
        "        user_choice = input(\"Enter your choice (rock, paper, scissors) or 'q' to quit: \").strip().lower()\n",
        "        if user_choice == 'q':\n",
        "            print_colored(\"Thanks for playing! Exiting the game...\", Fore.LIGHTMAGENTA_EX)\n",
        "            break\n",
        "\n",
        "        if user_choice not in choices:\n",
        "            print_colored(\"Invalid choice! Please enter 'rock', 'paper', or 'scissors'.\", Fore.RED)\n",
        "            rounds -= 1  # Don't count invalid rounds\n",
        "            continue\n",
        "\n",
        "        # Computer's choice\n",
        "        computer_choice = random.choice(choices)\n",
        "        print_colored(f\"\\nYou chose: {user_choice}\", Fore.LIGHTBLUE_EX)\n",
        "        print_colored(f\"Computer chose: {computer_choice}\", Fore.LIGHTBLUE_EX)\n",
        "\n",
        "        # Determine the winner\n",
        "        if user_choice == computer_choice:\n",
        "            print_colored(\"It's a tie!\", Fore.YELLOW)\n",
        "        elif (user_choice == \"rock\" and computer_choice == \"scissors\") or \\\n",
        "             (user_choice == \"scissors\" and computer_choice == \"paper\") or \\\n",
        "             (user_choice == \"paper\" and computer_choice == \"rock\"):\n",
        "            print_colored(\"You win this round!\", Fore.GREEN)\n",
        "            user_score += 1\n",
        "        else:\n",
        "            print_colored(\"Computer wins this round!\", Fore.RED)\n",
        "            computer_score += 1\n",
        "\n",
        "        # Display scores\n",
        "        print_colored(f\"Scores -> You: {user_score}  |  Computer: {computer_score}\", Fore.LIGHTMAGENTA_EX)\n",
        "\n",
        "    # Final result after all rounds\n",
        "    if rounds == max_rounds:\n",
        "        print_colored(\"\\n--- Game Over ---\", Fore.LIGHTMAGENTA_EX)\n",
        "        if user_score > computer_score:\n",
        "            print_colored(\"Congratulations! You won the game!\", Fore.GREEN)\n",
        "        elif user_score < computer_score:\n",
        "            print_colored(\"Oops! Computer won the game. Better luck next time!\", Fore.RED)\n",
        "        else:\n",
        "            print_colored(\"It's a tie! No one wins.\", Fore.YELLOW)\n",
        "        print_colored(f\"Final Scores -> You: {user_score}  |  Computer: {computer_score}\", Fore.LIGHTGREEN_EX)\n",
        "\n",
        "    # Ask if the user wants to play again\n",
        "    play_again = input(\"\\nDo you want to play again? (yes/no): \").strip().lower()\n",
        "    if play_again == \"yes\":\n",
        "        rock_paper_scissors()\n",
        "    else:\n",
        "        print_colored(\"Thanks for playing! Goodbye!\", Fore.LIGHTMAGENTA_EX)\n",
        "\n",
        "# Run the game\n",
        "rock_paper_scissors()"
      ],
      "metadata": {
        "colab": {
          "base_uri": "https://localhost:8080/"
        },
        "id": "6FE9cLErDEvo",
        "outputId": "3b20c85e-8377-4df2-da13-ef1089378cc8"
      },
      "execution_count": 5,
      "outputs": [
        {
          "output_type": "stream",
          "name": "stdout",
          "text": [
            "Welcome to Rock, Paper, Scissors!\n",
            "You will play 5 rounds against the computer. Let's see who wins!\n",
            "\n",
            "--- Round 1 ---\n",
            "Enter your choice (rock, paper, scissors) or 'q' to quit: rock\n",
            "\n",
            "You chose: rock\n",
            "Computer chose: paper\n",
            "Computer wins this round!\n",
            "Scores -> You: 0  |  Computer: 1\n",
            "\n",
            "--- Round 2 ---\n",
            "Enter your choice (rock, paper, scissors) or 'q' to quit: rock\n",
            "\n",
            "You chose: rock\n",
            "Computer chose: scissors\n",
            "You win this round!\n",
            "Scores -> You: 1  |  Computer: 1\n",
            "\n",
            "--- Round 3 ---\n",
            "Enter your choice (rock, paper, scissors) or 'q' to quit: scissors\n",
            "\n",
            "You chose: scissors\n",
            "Computer chose: scissors\n",
            "It's a tie!\n",
            "Scores -> You: 1  |  Computer: 1\n",
            "\n",
            "--- Round 4 ---\n",
            "Enter your choice (rock, paper, scissors) or 'q' to quit: paper\n",
            "\n",
            "You chose: paper\n",
            "Computer chose: paper\n",
            "It's a tie!\n",
            "Scores -> You: 1  |  Computer: 1\n",
            "\n",
            "--- Round 5 ---\n",
            "Enter your choice (rock, paper, scissors) or 'q' to quit: rock\n",
            "\n",
            "You chose: rock\n",
            "Computer chose: paper\n",
            "Computer wins this round!\n",
            "Scores -> You: 1  |  Computer: 2\n",
            "\n",
            "--- Game Over ---\n",
            "Oops! Computer won the game. Better luck next time!\n",
            "Final Scores -> You: 1  |  Computer: 2\n",
            "\n",
            "Do you want to play again? (yes/no): no\n",
            "Thanks for playing! Goodbye!\n"
          ]
        }
      ]
    }
  ]
}